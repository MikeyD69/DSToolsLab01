{
 "cells": [
  {
   "cell_type": "markdown",
   "id": "8c33e2cb-8472-403c-a75e-cd985f93b88f",
   "metadata": {
    "editable": true,
    "slideshow": {
     "slide_type": ""
    },
    "tags": []
   },
   "source": [
    "# Data Science Tools and Ecosystem"
   ]
  },
  {
   "cell_type": "markdown",
   "id": "a31921b7-97c5-4643-befc-1a753d315751",
   "metadata": {},
   "source": [
    "In this notebook, Data Science Tools and Ecosystem are summarized."
   ]
  },
  {
   "cell_type": "markdown",
   "id": "b3439fa8-fd92-4b69-a04c-0ee5ab11c76e",
   "metadata": {},
   "source": [
    "## Author\n",
    "Michael D. Waggoner, Oct 21, 2024"
   ]
  },
  {
   "cell_type": "markdown",
   "id": "5e6543a4-8910-41eb-8d01-f03b71995b61",
   "metadata": {},
   "source": [
    "**Objectives:**\n",
    "- List popular languages of Data Science\n",
    "- List commonly used libraries for Data Science\n",
    "- List some of the tools used by Data Scientists"
   ]
  },
  {
   "cell_type": "markdown",
   "id": "03e2c6a0-7e20-4776-9f51-f0e04e861361",
   "metadata": {},
   "source": [
    "Some of the popular languages that Data Scientists use are:\n",
    "1. Python\n",
    "2. R\n",
    "3. JavaScript\n",
    "4. SQL\n",
    "5. Julia"
   ]
  },
  {
   "cell_type": "markdown",
   "id": "e48309dd-b461-40f3-a0dc-82c8dbe7234e",
   "metadata": {},
   "source": [
    "Some of the commonly used libraries used by Data Scientists include:\n",
    "1. Pandas\n",
    "2. NumPy\n",
    "3. Matplotlib\n",
    "4. Plotly\n",
    "5. SciPy"
   ]
  },
  {
   "cell_type": "markdown",
   "id": "d959ccd2-f230-4c68-84bf-76fd039a008d",
   "metadata": {},
   "source": [
    "| Data Science Tools|\n",
    "|------------------|\n",
    "|   Python |\n",
    "|   Apache Spark |\n",
    "|   Scikit-learn |\n",
    "|   Jupyter Notebook |\n",
    "|   Tableau |"
   ]
  },
  {
   "cell_type": "markdown",
   "id": "a2d4929d-de28-4d1a-a39a-114dad7f4cca",
   "metadata": {},
   "source": [
    "### Below are a few examples of evaluating arithmetic expressions in Python"
   ]
  },
  {
   "cell_type": "code",
   "execution_count": 1,
   "id": "9febb141-ee61-41b1-93e8-90b484cb7ada",
   "metadata": {},
   "outputs": [
    {
     "data": {
      "text/plain": [
       "17"
      ]
     },
     "execution_count": 1,
     "metadata": {},
     "output_type": "execute_result"
    }
   ],
   "source": [
    "# This is a simple arithmetic expression to multiply then add integers.\n",
    "(3*4)+5"
   ]
  },
  {
   "cell_type": "code",
   "execution_count": 2,
   "id": "ce3433cb-10c4-463d-abdc-8dcac89baefe",
   "metadata": {},
   "outputs": [
    {
     "data": {
      "text/plain": [
       "3.3333333333333335"
      ]
     },
     "execution_count": 2,
     "metadata": {},
     "output_type": "execute_result"
    }
   ],
   "source": [
    "# This will convert 200 minutes to hours by dividing by 60\n",
    "200/60"
   ]
  }
 ],
 "metadata": {
  "kernelspec": {
   "display_name": "Python 3 (ipykernel)",
   "language": "python",
   "name": "python3"
  },
  "language_info": {
   "codemirror_mode": {
    "name": "ipython",
    "version": 3
   },
   "file_extension": ".py",
   "mimetype": "text/x-python",
   "name": "python",
   "nbconvert_exporter": "python",
   "pygments_lexer": "ipython3",
   "version": "3.11.9"
  }
 },
 "nbformat": 4,
 "nbformat_minor": 5
}
